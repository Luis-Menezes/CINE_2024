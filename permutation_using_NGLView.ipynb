{
 "cells": [
  {
   "cell_type": "code",
   "execution_count": 113,
   "metadata": {},
   "outputs": [],
   "source": [
    "from ipywidgets import HBox, VBox, Textarea, Button, Layout, Dropdown, widgets\n",
    "from ase.build import molecule\n",
    "import nglview as nv\n",
    "# from widget_periodictable import PTableWidget"
   ]
  },
  {
   "cell_type": "code",
   "execution_count": 114,
   "metadata": {},
   "outputs": [],
   "source": [
    "from get_data import get_data\n",
    "\n",
    "atoms, _,_ = get_data()"
   ]
  },
  {
   "cell_type": "code",
   "execution_count": 115,
   "metadata": {},
   "outputs": [],
   "source": [
    "#Initialize the material\n",
    "aa = atoms[0]\n",
    "\n",
    "#Show the material in the NGL visualizer\n",
    "view = nv.show_ase(aa)\n",
    "view.add_unitcell()\n",
    "view.control.zoom(0.2)\n",
    "view.camera='perspective'"
   ]
  },
  {
   "cell_type": "markdown",
   "metadata": {},
   "source": [
    "## Visualização"
   ]
  },
  {
   "cell_type": "code",
   "execution_count": 116,
   "metadata": {},
   "outputs": [],
   "source": [
    "# Create dropdown list with the species in the material\n",
    "w1 = Dropdown( \n",
    "    options= list(aa.symbols.species()),\n",
    "    description='Select the species to permutate:'\n",
    ")\n",
    "w1.layout.width = '200px'\n",
    "# Create a dropdown list with de index of the species\n",
    "w2 = Dropdown(\n",
    "    options = list(aa.symbols.indices()[w1.value]),\n",
    "    description = 'Which index:'\n",
    ")\n",
    "# Create a text area to input the element to be permutated\n",
    "w3 = Textarea(\n",
    "    description='Species to change: ',\n",
    "    placeholder='egg: \"O\"'\n",
    ")\n"
   ]
  },
  {
   "cell_type": "code",
   "execution_count": null,
   "metadata": {},
   "outputs": [],
   "source": [
    "def highlight_atom(view, atom_index):\n",
    "    \"\"\"\n",
    "    Highlight a specific atom in the NGLviewer visualization, keeping the complete representation visible.\n",
    "    \n",
    "    Parameter:\n",
    "    - view: NGLviewer Widget (egg: view = nglviewer.show_ase(material)).\n",
    "    - atom_index: atom index to be highlighted.\n",
    "    \"\"\"\n",
    "    # Clear previous representations and keep the material representation\n",
    "    view.clear_representations()\n",
    "    view.add_representation(\"ball+stick\", radius=0.2)  # Complete representation\n",
    "    view.add_unitcell()\n",
    "    view.camera='perspective'\n",
    "\n",
    "    #add the highlighted atom\n",
    "    view.add_representation(\"ball+stick\", selection=[atom_index], color=\"black\", radius=0.3, opacity=0.6)\n",
    "\n"
   ]
  },
  {
   "cell_type": "code",
   "execution_count": null,
   "metadata": {},
   "outputs": [],
   "source": [
    "def update_w2_options(change): # Watch changes in w1 to update w2\n",
    "    w2.options = aa.symbols.indices()[change.new]\n",
    "\n",
    "def on_w2_change(change): # Watch changes in w2 to select atom\n",
    "    atom_index = change.new\n",
    "    highlight_atom(view, atom_index)\n"
   ]
  },
  {
   "cell_type": "code",
   "execution_count": 119,
   "metadata": {},
   "outputs": [],
   "source": [
    "w1.observe(update_w2_options, names='value')\n",
    "w2.observe(on_w2_change, names='value')"
   ]
  },
  {
   "cell_type": "code",
   "execution_count": null,
   "metadata": {},
   "outputs": [],
   "source": [
    "def replace_atom(index_atom, new_element):\n",
    "    \"\"\"\n",
    "    Substitute the atom with index 'atom_index' for 'new_element'.\n",
    "    \n",
    "    Parameter:\n",
    "    - index_atom: Atom index to be permutated.\n",
    "    - new_element: New element symbol to permutate.\n",
    "    \"\"\"\n",
    "    \n",
    "    aa[index_atom].symbol = new_element\n",
    "\n",
    "    \n",
    "def on_replace_button_click(b):\n",
    "    # Grab atom index and new element\n",
    "    new_element = w3.value\n",
    "    index_atom = w2.value  # Define the desired index \n",
    "    global view\n",
    "    # Call the replace atom function\n",
    "    replace_atom(index_atom, new_element)\n",
    "    w1.options = list(aa.symbols.species())\n",
    "    view = nv.show_ase(aa)\n",
    "    print(f\"Átomo no índice {index_atom} substituído por {new_element}.\")\n",
    "\n",
    "\n",
    "replace_button = widgets.Button(description=\"Substituir átomo\")\n",
    "replace_button.on_click(on_replace_button_click)"
   ]
  },
  {
   "cell_type": "code",
   "execution_count": 121,
   "metadata": {},
   "outputs": [
    {
     "data": {
      "application/vnd.jupyter.widget-view+json": {
       "model_id": "27c68d09fa5f4917b188a30262e86e5a",
       "version_major": 2,
       "version_minor": 0
      },
      "text/plain": [
       "HBox(children=(Dropdown(description='Select the species to permutate:', layout=Layout(width='200px'), options=…"
      ]
     },
     "metadata": {},
     "output_type": "display_data"
    },
    {
     "data": {
      "application/vnd.jupyter.widget-view+json": {
       "model_id": "63601b5259454f339f479f7f1a55ebac",
       "version_major": 2,
       "version_minor": 0
      },
      "text/plain": [
       "VBox(children=(NGLWidget(),))"
      ]
     },
     "metadata": {},
     "output_type": "display_data"
    }
   ],
   "source": [
    "display(HBox([w1, w2, w3, replace_button]), VBox([view]))"
   ]
  },
  {
   "cell_type": "markdown",
   "metadata": {},
   "source": [
    "Small bug: doesn't update visualization on display, need to redefine the view, as below:"
   ]
  },
  {
   "cell_type": "code",
   "execution_count": 122,
   "metadata": {},
   "outputs": [
    {
     "data": {
      "application/vnd.jupyter.widget-view+json": {
       "model_id": "fc1e7109866147de98ec917caffe1b77",
       "version_major": 2,
       "version_minor": 0
      },
      "text/plain": [
       "NGLWidget()"
      ]
     },
     "metadata": {},
     "output_type": "display_data"
    }
   ],
   "source": [
    "v = nv.show_ase(aa)\n",
    "v"
   ]
  }
 ],
 "metadata": {
  "kernelspec": {
   "display_name": "Python 3",
   "language": "python",
   "name": "python3"
  },
  "language_info": {
   "codemirror_mode": {
    "name": "ipython",
    "version": 3
   },
   "file_extension": ".py",
   "mimetype": "text/x-python",
   "name": "python",
   "nbconvert_exporter": "python",
   "pygments_lexer": "ipython3",
   "version": "3.11.4"
  }
 },
 "nbformat": 4,
 "nbformat_minor": 2
}
